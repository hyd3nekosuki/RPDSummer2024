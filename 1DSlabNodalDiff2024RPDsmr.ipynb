{
  "nbformat": 4,
  "nbformat_minor": 0,
  "metadata": {
    "colab": {
      "provenance": [],
      "authorship_tag": "ABX9TyO657s7whtzHaSVYmGK3vaW",
      "include_colab_link": true
    },
    "kernelspec": {
      "name": "python3",
      "display_name": "Python 3"
    }
  },
  "cells": [
    {
      "cell_type": "markdown",
      "metadata": {
        "id": "view-in-github",
        "colab_type": "text"
      },
      "source": [
        "<a href=\"https://colab.research.google.com/github/hyd3nekosuki/RPDsummer2024/blob/main/1DSlabNodalDiff2024RPDsmr.ipynb\" target=\"_parent\"><img src=\"https://colab.research.google.com/assets/colab-badge.svg\" alt=\"Open In Colab\"/></a>"
      ]
    },
    {
      "cell_type": "code",
      "metadata": {
        "id": "eZ-oM6y1ZGAq"
      },
      "source": [
        "import numpy as np\n",
        "import matplotlib.pyplot as plt\n",
        "import scipy.sparse as sp\n",
        "from numba import njit"
      ],
      "execution_count": null,
      "outputs": []
    },
    {
      "cell_type": "code",
      "source": [
        "@njit(cache=True)\n",
        "def calcFluxNodalDiffusion(SigA, D, L, H, a, b, c, x, albedo):\n",
        "    A = np.zeros((2,2))\n",
        "    y = np.zeros(2)\n",
        "\n",
        "    expm = np.exp(-H/(2*L))\n",
        "    expp = np.exp(+H/(2*L))\n",
        "    A[0,0] = ( (1-albedo[0]) -2*(1+albedo[0])*(D/L) )*expm\n",
        "    A[0,1] = ( (1-albedo[0]) +2*(1+albedo[0])*(D/L) )*expp\n",
        "    A[1,0] = ( (1-albedo[1]) +2*(1+albedo[1])*(D/L) )*expp\n",
        "    A[1,1] = ( (1-albedo[1]) -2*(1+albedo[1])*(D/L) )*expm\n",
        "    y[0] = -(1-albedo[0])*(a*H*H/4 -b*H/2 +2*a*L*L+c)/SigA +2*(1+albedo[0])*L*L*(-a*H +b)\n",
        "    y[1] = -(1-albedo[1])*(a*H*H/4 +b*H/2 +2*a*L*L+c)/SigA -2*(1+albedo[1])*L*L*(+a*H +b)\n",
        "\n",
        "    coef = np.linalg.solve(A, y)\n",
        "    flux = coef[0]*np.exp(x/L) + coef[1]*np.exp(-x/L) +(a*x*x +b*x +2*a*L*L +c)/SigA\n",
        "    return flux"
      ],
      "metadata": {
        "id": "hftpFRDoAuIb"
      },
      "execution_count": null,
      "outputs": []
    },
    {
      "cell_type": "code",
      "source": [
        "def ordinal(i):\n",
        "    j = i%100\n",
        "    return \"{}\".format(i)+({1:\"st\", 2:\"nd\", 3:\"rd\"}.get(j if 14>j>10 else j % 10) or \"th\")"
      ],
      "metadata": {
        "id": "75rnhPkZaAQI"
      },
      "execution_count": null,
      "outputs": []
    },
    {
      "cell_type": "code",
      "metadata": {
        "id": "UhEuhcYxPNqj"
      },
      "source": [
        "np.random.seed(20240619)\n",
        "\n",
        "LengthX = 12.0\n",
        "NX = 240\n",
        "dx = np.full( NX, LengthX/NX )\n",
        "xS = np.linspace(start=-LengthX/2, stop=LengthX/2, num=NX+1)\n",
        "x = (xS[:-1] + xS[1:])/2\n",
        "\n",
        "matid = np.zeros(NX, dtype=np.int64)\n",
        "NC = 20\n",
        "snapshotF = np.zeros( (NX,NC) )\n",
        "snapshotQ = np.zeros( (NX,NC) )\n",
        "\n",
        "plt.rcParams[\"figure.figsize\"]=(4,4)\n",
        "plt.rcParams[\"font.size\"] = 12\n",
        "\n",
        "for i in range(NC):\n",
        "    SigA = np.random.uniform(low=0.01, high=1.0)\n",
        "    SigS = np.random.uniform(low=0.01, high=1.0)\n",
        "\n",
        "    s = np.zeros(NX)\n",
        "    xi = np.random.uniform(low=-1.0, high=1.0)\n",
        "    y = np.random.uniform(low=0.0, high=1.0, size=3)\n",
        "    a = y[0]/(2*(1+xi)) +y[1]/(xi*xi-1) + y[2]/(2*(1-xi))\n",
        "    b = (y[2]-y[0])/2\n",
        "    c = xi*( y[0]/(2*(1+xi)) -y[2]/(2*(1-xi)) )  -y[1]/(xi*xi-1)\n",
        "    vx = -b/(2*a)\n",
        "    if vx>=-1 and vx<=1:\n",
        "        vy = a*vx**2 + b*vx + c\n",
        "        if vy <0:\n",
        "            c = c-vy\n",
        "            vy = vy = a*vx**2 + b*vx + c\n",
        "            c = c-vy\n",
        "    stotal = ((a/3)+c)*LengthX\n",
        "    a = a/stotal\n",
        "    b = b/stotal\n",
        "    c = c/stotal\n",
        "\n",
        "    SigT = SigA+SigS\n",
        "    D = 1/(3*SigT)\n",
        "    L = np.sqrt(D/SigA)\n",
        "\n",
        "    a = 4*a/(LengthX* LengthX)\n",
        "    b = 2*b/LengthX\n",
        "\n",
        "    s = a*(x**2) + b*x + c\n",
        "    if s.min() < 0:\n",
        "        print(\"Warning: source is negative\")\n",
        "\n",
        "    albedo = np.random.uniform(low=0.0, high=1.0, size=(2))\n",
        "    flux = calcFluxNodalDiffusion(SigA, D, L, LengthX, a, b, c, x, albedo)\n",
        "    snapshotF[:,i] = flux\n",
        "    snapshotQ[:,i] = (s + SigS*flux)\n",
        "\n",
        "    #if i>= 10:\n",
        "    #    continue\n",
        "\n",
        "    plt.plot(x, flux, color=\"blue\", linestyle=\"solid\", label=\"$\\phi(x)$\")\n",
        "    plt.plot(x, s, color=\"red\", linestyle=\"dashed\", label=\"$S(x)$\")\n",
        "    plt.title(\"flux at {} condition \".format(ordinal(i+1)))\n",
        "    fluxmax = flux.max()\n",
        "    #plt.ylim((0, fluxmax*1.1))\n",
        "    plt.xlabel(\"$x$ (cm)\")\n",
        "    plt.ylabel(\"$\\phi(x)$ (a.u.)\")\n",
        "    plt.legend()\n",
        "    plt.tight_layout()\n",
        "    plt.show()\n"
      ],
      "execution_count": null,
      "outputs": []
    }
  ]
}