{
  "nbformat": 4,
  "nbformat_minor": 0,
  "metadata": {
    "colab": {
      "provenance": [],
      "include_colab_link": true
    },
    "kernelspec": {
      "name": "python3",
      "display_name": "Python 3"
    }
  },
  "cells": [
    {
      "cell_type": "markdown",
      "metadata": {
        "id": "view-in-github",
        "colab_type": "text"
      },
      "source": [
        "<a href=\"https://colab.research.google.com/github/hyd3nekosuki/RPDsummer2024/blob/main/1DSlabDiffusion2024RPDsmr.ipynb\" target=\"_parent\"><img src=\"https://colab.research.google.com/assets/colab-badge.svg\" alt=\"Open In Colab\"/></a>"
      ]
    },
    {
      "cell_type": "code",
      "metadata": {
        "id": "eZ-oM6y1ZGAq"
      },
      "source": [
        "import numpy as np\n",
        "import matplotlib.pyplot as plt\n",
        "import scipy.sparse as sp\n",
        "from numba import njit"
      ],
      "execution_count": null,
      "outputs": []
    },
    {
      "cell_type": "code",
      "metadata": {
        "id": "-wB5VltOqfIB"
      },
      "source": [
        "def calcMatrixA(D, Dcor, SigA, dx, matid, albedo):\n",
        "    NX  = len(s)\n",
        "    A = sp.lil_matrix((NX, NX))\n",
        "\n",
        "    for i in range(NX):\n",
        "        D0  = D[i]\n",
        "        dx0 = dx[i]\n",
        "        if i==0:\n",
        "            a = albedo[0]\n",
        "            Dxm = -(1-a)*D0/(2*(1+a)*D0 + (1-a)*dx0/2)\n",
        "        else:\n",
        "            Dm  = D[i-1]\n",
        "            dxm = dx[i-1]\n",
        "            Dxm = -2*Dm*D0/(Dm*dx0 + D0*dxm)\n",
        "            Axm = (Dxm-Dcor[i])/dx0\n",
        "            A[i,i-1] = Axm\n",
        "        if i==(NX-1):\n",
        "            a = albedo[1]\n",
        "            Dxp = -(1-a)*D0/(2*(1+a)*D0 + (1-a)*dx0/2)\n",
        "        else:\n",
        "            Dp  = D[i+1]\n",
        "            dxp = dx[i+1]\n",
        "            Dxp = -2*D0*Dp/(D0*dxp + Dp*dx0)\n",
        "            A[i,i+1] = (Dxp+Dcor[i+1])/dx0\n",
        "\n",
        "        A[i,i] = SigA[matid[i]] - ( (Dxm+Dcor[i] + Dxp-Dcor[i+1])/dx0 )\n",
        "\n",
        "    A = A.tocsr()\n",
        "    return A\n",
        "\n",
        "\n",
        "@njit(cache=True)\n",
        "def diffusion1DX(D, Dcor, SigA, s, dx, matid, albedo):\n",
        "    NX  = len(s)\n",
        "    L   = np.zeros(NX)\n",
        "    U   = np.zeros(NX)\n",
        "    Axp = np.zeros(NX)\n",
        "\n",
        "    for i in range(NX):\n",
        "        D0  = D[i]\n",
        "        dx0 = dx[i]\n",
        "        if i==0:\n",
        "            a = albedo[0]\n",
        "            Dxm = -(1-a)*D0/(2*(1+a)*D0 + (1-a)*dx0/2)\n",
        "        else:\n",
        "            Dm  = D[i-1]\n",
        "            dxm = dx[i-1]\n",
        "            Dxm = -2*Dm*D0/(Dm*dx0 + D0*dxm)\n",
        "            Axm = (Dxm-Dcor[i])/dx0\n",
        "        if i==(NX-1):\n",
        "            a = albedo[1]\n",
        "            Dxp = -(1-a)*D0/(2*(1+a)*D0 + (1-a)*dx0/2)\n",
        "        else:\n",
        "            Dp  = D[i+1]\n",
        "            dxp = dx[i+1]\n",
        "            Dxp = -2*D0*Dp/(D0*dxp + Dp*dx0)\n",
        "            Axp[i] = (Dxp+Dcor[i+1])/dx0\n",
        "\n",
        "        A0 = SigA[matid[i]] - ( (Dxm+Dcor[i] + Dxp-Dcor[i+1])/dx0 )\n",
        "\n",
        "        if i==0:\n",
        "            L[i] = 0.0\n",
        "            U[i] = A0\n",
        "        else:\n",
        "            L[i] = Axm/U[i-1]\n",
        "            U[i] = A0 - Axp[i-1]*L[i]\n",
        "\n",
        "    B = np.zeros(NX)\n",
        "    BBefore = 0.0\n",
        "    for i in range(NX):\n",
        "        B[i] = s[i] - BBefore*L[i]\n",
        "        BBefore = B[i]\n",
        "\n",
        "    flux = np.zeros(NX)\n",
        "    fluxAfter = 0.0\n",
        "    for i in range(NX-1, -1, -1):\n",
        "        fluxAfter = (B[i] - Axp[i]*fluxAfter) / U[i]\n",
        "        flux[i] = fluxAfter\n",
        "\n",
        "    return flux"
      ],
      "execution_count": null,
      "outputs": []
    },
    {
      "cell_type": "code",
      "source": [
        "@njit(cache=True)\n",
        "def calcFluxDiffusion(SigS, SigA, s, dx, matid, albedo):\n",
        "    NX = len(s)\n",
        "    SigT = SigA+SigS\n",
        "    D = 1/(3*SigT)\n",
        "    Dcor = np.zeros(NX+1)\n",
        "    flux = diffusion1DX(D[matid], Dcor, SigA, s, dx, matid, albedo)\n",
        "    return flux"
      ],
      "metadata": {
        "id": "hftpFRDoAuIb"
      },
      "execution_count": null,
      "outputs": []
    },
    {
      "cell_type": "code",
      "source": [
        "def ordinal(i):\n",
        "    j = i%100\n",
        "    return \"{}\".format(i)+({1:\"st\", 2:\"nd\", 3:\"rd\"}.get(j if 14>j>10 else j % 10) or \"th\")"
      ],
      "metadata": {
        "id": "75rnhPkZaAQI"
      },
      "execution_count": null,
      "outputs": []
    },
    {
      "cell_type": "code",
      "metadata": {
        "id": "UhEuhcYxPNqj"
      },
      "source": [
        "np.random.seed(20240619)\n",
        "\n",
        "LengthX = 12.0\n",
        "NX = 240\n",
        "dx = np.full( NX, LengthX/NX )\n",
        "xS = np.linspace(start=-LengthX/2, stop=LengthX/2, num=NX+1)\n",
        "x = (xS[:-1] + xS[1:])/2\n",
        "\n",
        "matid = np.zeros(NX, dtype=np.int64)\n",
        "NC = 20\n",
        "snapshotF = np.zeros( (NX,NC) )\n",
        "snapshotQ = np.zeros( (NX,NC) )\n",
        "\n",
        "plt.rcParams[\"figure.figsize\"]=(4,4)\n",
        "plt.rcParams[\"font.size\"] = 12\n",
        "\n",
        "for i in range(NC):\n",
        "    SigA = np.random.uniform(low=0.01, high=1.0, size=(1))\n",
        "    SigS = np.random.uniform(low=0.01, high=1.0, size=(1))\n",
        "\n",
        "    s = np.zeros(NX)\n",
        "    xi = np.random.uniform(low=-1.0, high=1.0)\n",
        "    y = np.random.uniform(low=0.0, high=1.0, size=3)\n",
        "    a = y[0]/(2*(1+xi)) +y[1]/(xi*xi-1) + y[2]/(2*(1-xi))\n",
        "    b = (y[2]-y[0])/2\n",
        "    c = xi*( y[0]/(2*(1+xi)) -y[2]/(2*(1-xi)) )  -y[1]/(xi*xi-1)\n",
        "    vx = -b/(2*a)\n",
        "    if vx>=-1 and vx<=1:\n",
        "        vy = a*vx**2 + b*vx + c\n",
        "        if vy <0:\n",
        "            c = c-vy\n",
        "            vy = vy = a*vx**2 + b*vx + c\n",
        "            c = c-vy\n",
        "    stotal = ((a/3)+c)*LengthX\n",
        "    a = a/stotal\n",
        "    b = b/stotal\n",
        "    c = c/stotal\n",
        "\n",
        "    s = a*(x/(LengthX/2))**2 + b*(x/(LengthX/2)) + c\n",
        "    if s.min() < 0:\n",
        "        print(\"Warning: source is negative\")\n",
        "\n",
        "    albedo = np.random.uniform(low=0.0, high=1.0, size=(2))\n",
        "    flux = calcFluxDiffusion(SigS, SigA, s, dx, matid, albedo)\n",
        "    snapshotF[:,i] = flux\n",
        "    snapshotQ[:,i] = (s + SigS[matid]*flux)\n",
        "\n",
        "    #if i>=10:\n",
        "    #    continue\n",
        "\n",
        "    plt.plot(x, flux, color=\"blue\", linestyle=\"solid\", label=\"$\\phi(x)$\")\n",
        "    plt.plot(x, s, color=\"red\", linestyle=\"dashed\", label=\"$S(x)$\")\n",
        "    plt.title(\"flux at {} condition \".format(ordinal(i+1)))\n",
        "    fluxmax = flux.max()\n",
        "    #plt.ylim((0, fluxmax*1.1))\n",
        "    plt.xlabel(\"$x$ (cm)\")\n",
        "    plt.ylabel(\"$\\phi(x)$ (a.u.)\")\n",
        "    plt.legend()\n",
        "    plt.tight_layout()\n",
        "    plt.show()"
      ],
      "execution_count": null,
      "outputs": []
    }
  ]
}