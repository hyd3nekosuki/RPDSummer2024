{
  "nbformat": 4,
  "nbformat_minor": 0,
  "metadata": {
    "colab": {
      "provenance": [],
      "authorship_tag": "ABX9TyNmT6ACXoJEdQV4j2RZkPe8",
      "include_colab_link": true
    },
    "kernelspec": {
      "name": "python3",
      "display_name": "Python 3"
    }
  },
  "cells": [
    {
      "cell_type": "markdown",
      "metadata": {
        "id": "view-in-github",
        "colab_type": "text"
      },
      "source": [
        "<a href=\"https://colab.research.google.com/github/hyd3nekosuki/RPDsummer2024/blob/main/%E7%82%89%E7%89%A9%E7%90%86%E5%A4%8F%E6%9C%9F%E3%82%BB%E3%83%9F%E3%83%8A%E3%83%BCPOD%E6%BC%94%E7%BF%92.ipynb\" target=\"_parent\"><img src=\"https://colab.research.google.com/assets/colab-badge.svg\" alt=\"Open In Colab\"/></a>"
      ]
    },
    {
      "cell_type": "markdown",
      "source": [
        "# **Google Colaboratoryを用いたPOD演習**\n"
      ],
      "metadata": {
        "id": "uU-qQTx3tVSp"
      }
    },
    {
      "cell_type": "markdown",
      "source": [
        "# **Google Colaboratoryの使い方**\n",
        "\n",
        "Google Colaboratoryを用いることで、手持ちのPCに[Python](https://www.python.jp/pages/about.html)計算環境を整える必要なく、ウェブブラウザ上からPythonプログラムを容易に作成することができる。\n",
        "\n",
        "Python言語そのものの文法など詳細については、各自インターネットで検索したり、別の参考文献を読んでほしい。例えば\n",
        " - [\"Pythonプログラミング入門,\" 東京大学 数理・情報教育研究センター (2024).](https://utokyo-ipp.github.io/IPP_textbook.pdf)\n",
        " - [喜多 一, \"プログラミング演習 Python 2019,\" (2020).](https://repository.kulib.kyoto-u.ac.jp/dspace/bitstream/2433/245698/1/Version2020_02_13_01.pdf)\n"
      ],
      "metadata": {
        "id": "T3mHRe-vuBL-"
      }
    },
    {
      "cell_type": "markdown",
      "source": [
        "### **pythonプログラムの実行練習**\n",
        "\n",
        "まずは簡単な例として、以下のプログラムを実行してみよう。\n",
        "\n",
        "\\\\\n",
        "\n",
        "プログラムが記述されたセルを選択(マウスでクリック)し\n",
        "\n",
        "①Shift+Enterを押すか\n",
        "\n",
        "②マウスで左上部の[　] or ▶ ををクリックする\n",
        "\n",
        "ことで作成したプログラムを実行することができる。"
      ],
      "metadata": {
        "id": "QuVrbgIWvyRw"
      }
    },
    {
      "cell_type": "code",
      "source": [
        "a = 1.41421356\n",
        "\n",
        "print(a) # 値を表示\n",
        "print(id(a)) # 変数aのアドレスを表示\n",
        "\n",
        "b=a\n",
        "print(id(b)) # 変数bのアドレスを表示"
      ],
      "metadata": {
        "id": "YdGu3qmngpqz"
      },
      "execution_count": null,
      "outputs": []
    },
    {
      "cell_type": "markdown",
      "source": [
        "### **繰り返し処理**\n",
        "\n",
        "Pythonにおけるfor文の基本的な記述方法は以下のとおり。変数iが終了値を超えたら反復を終えるので注意。\n",
        "\n",
        "\n",
        "for i in range(繰り返し回数):\n",
        "\n",
        "  　～繰り返したい処理～\n",
        "\n",
        "\n",
        "C言語と異なり、Pythonのfor文やif文では、同じ幅だけ**字下げ**することによって、処理の単位(ブロック)を表現している。同一のブロック内では文頭の字下げの数を同じにすること。"
      ],
      "metadata": {
        "id": "h3yWUORUi24A"
      }
    },
    {
      "cell_type": "code",
      "source": [
        "keff = 0.9\n",
        "\n",
        "neutrons = 100\n",
        "for i in range(1, 11, 1):\n",
        "    neutrons = keff*neutrons\n",
        "    print(i, neutrons)\n"
      ],
      "metadata": {
        "id": "ZnkoQGOLi8xA"
      },
      "execution_count": null,
      "outputs": []
    },
    {
      "cell_type": "markdown",
      "source": [
        "### **分岐処理**\n",
        "\n",
        "if 条件式①:\n",
        "\n",
        "  　～条件式①を満足する(True)の時に行う処理～\n",
        "\n",
        "elif 条件式②:\n",
        "\n",
        "  　～条件式②を満足する(True)の時に行う処理～\n",
        "\n",
        "elif 条件式③:\n",
        "\n",
        "  　～条件式③を満足する(True)の時に行う処理～\n",
        "\n",
        "…\n",
        "\n",
        "else:\n",
        "\n",
        "  　～以上の条件をすべて満足しなかった時に行う処理～\n"
      ],
      "metadata": {
        "id": "m3z-Nlq6kdyE"
      }
    },
    {
      "cell_type": "code",
      "source": [
        "import math\n",
        "\n",
        "nuSigF = 1.2\n",
        "SigA = 0.5\n",
        "D = 1.0\n",
        "B = math.sqrt(0.7) # np.sqrt: 平方根\n",
        "B2 = B*B\n",
        "\n",
        "keff = nuSigF/(SigA + D*B2) # エネルギー1群、1領域均質体系の実効増倍率\n",
        "\n",
        "print(\"keff = {0}\".format(keff)) # {}の中にformatで指定した変数が出力される\n",
        "if keff<1:\n",
        "    print(\"subcritical: 未臨界\")\n",
        "elif keff>1:\n",
        "    print(\"supercritical: 超臨界\")\n",
        "else:\n",
        "    print(\"critical: 臨界\")"
      ],
      "metadata": {
        "id": "EbSmmMDBkoom"
      },
      "execution_count": null,
      "outputs": []
    },
    {
      "cell_type": "markdown",
      "source": [
        "# **前準備**\n",
        "\n",
        "POD基底を作成するための演習を行うための、各種関数を定義するため\n",
        "これ以降のpythonプログラムを全て実行してください。\n",
        "\n",
        "(or ▶をクリック)"
      ],
      "metadata": {
        "id": "goVRtx1cvAu6"
      }
    },
    {
      "cell_type": "code",
      "metadata": {
        "id": "eZ-oM6y1ZGAq"
      },
      "source": [
        "import numpy as np\n",
        "import matplotlib.pyplot as plt\n",
        "import scipy.sparse as sp\n",
        "from numba import njit"
      ],
      "execution_count": null,
      "outputs": []
    },
    {
      "cell_type": "code",
      "metadata": {
        "id": "-wB5VltOqfIB"
      },
      "source": [
        "def calcMatrixA(D, Dcor, SigA, dx, matid, albedo):\n",
        "    NX  = len(s)\n",
        "    A = sp.lil_matrix((NX, NX))\n",
        "\n",
        "    for i in range(NX):\n",
        "        D0  = D[i]\n",
        "        dx0 = dx[i]\n",
        "        if i==0:\n",
        "            a = albedo[0]\n",
        "            Dxm = -(1-a)*D0/(2*(1+a)*D0 + (1-a)*dx0/2)\n",
        "        else:\n",
        "            Dm  = D[i-1]\n",
        "            dxm = dx[i-1]\n",
        "            Dxm = -2*Dm*D0/(Dm*dx0 + D0*dxm)\n",
        "            Axm = (Dxm-Dcor[i])/dx0\n",
        "            A[i,i-1] = Axm\n",
        "        if i==(NX-1):\n",
        "            a = albedo[1]\n",
        "            Dxp = -(1-a)*D0/(2*(1+a)*D0 + (1-a)*dx0/2)\n",
        "        else:\n",
        "            Dp  = D[i+1]\n",
        "            dxp = dx[i+1]\n",
        "            Dxp = -2*D0*Dp/(D0*dxp + Dp*dx0)\n",
        "            A[i,i+1] = (Dxp+Dcor[i+1])/dx0\n",
        "\n",
        "        A[i,i] = SigA[matid[i]] - ( (Dxm+Dcor[i] + Dxp-Dcor[i+1])/dx0 )\n",
        "\n",
        "    A = A.tocsr()\n",
        "    return A\n",
        "\n",
        "\n",
        "@njit(cache=True)\n",
        "def diffusion1DX(D, Dcor, SigA, s, dx, matid, albedo):\n",
        "    NX  = len(s)\n",
        "    L   = np.zeros(NX)\n",
        "    U   = np.zeros(NX)\n",
        "    Axp = np.zeros(NX)\n",
        "\n",
        "    for i in range(NX):\n",
        "        D0  = D[i]\n",
        "        dx0 = dx[i]\n",
        "        if i==0:\n",
        "            a = albedo[0]\n",
        "            Dxm = -(1-a)*D0/(2*(1+a)*D0 + (1-a)*dx0/2)\n",
        "        else:\n",
        "            Dm  = D[i-1]\n",
        "            dxm = dx[i-1]\n",
        "            Dxm = -2*Dm*D0/(Dm*dx0 + D0*dxm)\n",
        "            Axm = (Dxm-Dcor[i])/dx0\n",
        "        if i==(NX-1):\n",
        "            a = albedo[1]\n",
        "            Dxp = -(1-a)*D0/(2*(1+a)*D0 + (1-a)*dx0/2)\n",
        "        else:\n",
        "            Dp  = D[i+1]\n",
        "            dxp = dx[i+1]\n",
        "            Dxp = -2*D0*Dp/(D0*dxp + Dp*dx0)\n",
        "            Axp[i] = (Dxp+Dcor[i+1])/dx0\n",
        "\n",
        "        A0 = SigA[matid[i]] - ( (Dxm+Dcor[i] + Dxp-Dcor[i+1])/dx0 )\n",
        "\n",
        "        if i==0:\n",
        "            L[i] = 0.0\n",
        "            U[i] = A0\n",
        "        else:\n",
        "            L[i] = Axm/U[i-1]\n",
        "            U[i] = A0 - Axp[i-1]*L[i]\n",
        "\n",
        "    B = np.zeros(NX)\n",
        "    BBefore = 0.0\n",
        "    for i in range(NX):\n",
        "        B[i] = s[i] - BBefore*L[i]\n",
        "        BBefore = B[i]\n",
        "\n",
        "    flux = np.zeros(NX)\n",
        "    fluxAfter = 0.0\n",
        "    for i in range(NX-1, -1, -1):\n",
        "        fluxAfter = (B[i] - Axp[i]*fluxAfter) / U[i]\n",
        "        flux[i] = fluxAfter\n",
        "\n",
        "    return flux"
      ],
      "execution_count": null,
      "outputs": []
    },
    {
      "cell_type": "code",
      "source": [
        "@njit(cache=True)\n",
        "def calcFluxDiffusion(SigS, SigA, s, dx, matid, albedo):\n",
        "    NX = len(s)\n",
        "    SigT = SigA+SigS\n",
        "    D = 1/(3*SigT)\n",
        "    Dcor = np.zeros(NX+1)\n",
        "    flux = diffusion1DX(D[matid], Dcor, SigA, s, dx, matid, albedo)\n",
        "    return flux"
      ],
      "metadata": {
        "id": "hftpFRDoAuIb"
      },
      "execution_count": null,
      "outputs": []
    },
    {
      "cell_type": "code",
      "source": [
        "def ordinal(i):\n",
        "    j = i%100\n",
        "    return \"{}\".format(i)+({1:\"st\", 2:\"nd\", 3:\"rd\"}.get(j if 14>j>10 else j % 10) or \"th\")"
      ],
      "metadata": {
        "id": "75rnhPkZaAQI"
      },
      "execution_count": null,
      "outputs": []
    },
    {
      "cell_type": "markdown",
      "source": [
        "# **中性子拡散計算による演習**"
      ],
      "metadata": {
        "id": "Wm227HEYzkiQ"
      }
    },
    {
      "cell_type": "markdown",
      "source": [
        "## **中性子拡散計算プログラムの実行練習**"
      ],
      "metadata": {
        "id": "7gkZx7Qu-0h-"
      }
    },
    {
      "cell_type": "code",
      "source": [
        "LengthX = 12.0 # 平板厚さ\n",
        "NX = 240 # 空間メッシュ分割数\n",
        "\n",
        "dx = np.full( NX, LengthX/NX ) # 空間メッシュ幅の設定\n",
        "xS = np.linspace(start=-LengthX/2, stop=LengthX/2, num=NX+1)\n",
        "x = (xS[:-1] + xS[1:])/2 # 各空間メッシュの中点位置x座標\n",
        "\n",
        "matid = np.zeros(NX, dtype=np.int64) # 各メッシュの物質ID指定。左の場合は、全て0\n",
        "\n",
        "SigA = np.array([0.1]) # 巨視的吸収断面積\n",
        "SigS = np.array([0.2]) # 巨視的散乱断面積\n",
        "\n",
        "# s = np.ones(NX)  # 中性子源: すべての空間メッシュで値が「1」\n",
        "# s = np.full(NX, 1.0) # 中性子源: すべての空間メッシュで値が「1.0」\n",
        "# s = np.random.rand(NX) # 中性子源: 各空間メッシュで一様乱数に基づいて設定\n",
        "s = -(x-LengthX/2)*(x+LengthX/2)# 中性子源: 2次関数\n",
        "\n",
        "albedo = np.array([0.0, 0.0]) # アルベド値：左側境界面、右側境界面\n",
        "#albedo = np.array([1.0, 1.0]) # アルベド値\n",
        "\n",
        "flux = calcFluxDiffusion(SigS, SigA, s, dx, matid, albedo)\n",
        "\n",
        "plt.rcParams[\"figure.figsize\"]=(4,4)\n",
        "plt.rcParams[\"font.size\"] = 12\n",
        "plt.plot(x, flux, color=\"blue\", linestyle=\"solid\", label=\"$\\phi(x)$\")\n",
        "plt.plot(x, s, color=\"red\", linestyle=\"dashed\", label=\"$S(x)$\")\n",
        "plt.title(\"flux\")\n",
        "plt.xlabel(\"$x$ (cm)\")\n",
        "plt.ylabel(\"$\\phi(x)$ (a.u.)\")\n",
        "plt.legend()\n",
        "plt.tight_layout()\n",
        "plt.show()"
      ],
      "metadata": {
        "id": "4fKG4nT93qfj"
      },
      "execution_count": null,
      "outputs": []
    },
    {
      "cell_type": "markdown",
      "source": [
        "## **snapshotデータ行列の準備例**"
      ],
      "metadata": {
        "id": "cSBYpYsGTDLq"
      }
    },
    {
      "cell_type": "code",
      "metadata": {
        "id": "UhEuhcYxPNqj"
      },
      "source": [
        "np.random.seed(20240619) # 初期乱数の設定\n",
        "\n",
        "LengthX = 12.0 # 平板厚さ\n",
        "NX = 240 # 空間メッシュ分割数\n",
        "\n",
        "dx = np.full( NX, LengthX/NX ) # 空間メッシュ幅の設定\n",
        "xS = np.linspace(start=-LengthX/2, stop=LengthX/2, num=NX+1)\n",
        "x = (xS[:-1] + xS[1:])/2 # 各空間メッシュの中点位置x座標\n",
        "\n",
        "matid = np.zeros(NX, dtype=np.int64) # 各メッシュの物質ID指定。左の場合は、全て0\n",
        "\n",
        "NC = 400 # 条件数\n",
        "snapshotF = np.zeros( (NX,NC) ) # NX行, NC列のsnapshot行列を準備\n",
        "## snapshotQ = np.zeros( (NX,NC) )\n",
        "\n",
        "plt.rcParams[\"figure.figsize\"]=(4,4)\n",
        "plt.rcParams[\"font.size\"] = 12\n",
        "\n",
        "for i in range(NC):\n",
        "    SigA = np.random.uniform(low=0.01, high=1.0, size=(1)) # 巨視的吸収断面積\n",
        "    SigS = np.random.uniform(low=0.01, high=1.0, size=(1)) # 巨視的散乱断面積\n",
        "\n",
        "    # 中性子源の設定\n",
        "    s = np.zeros(NX)\n",
        "    xi = np.random.uniform(low=-1.0, high=1.0)\n",
        "    y = np.random.uniform(low=0.0, high=1.0, size=3)\n",
        "    a = y[0]/(2*(1+xi)) +y[1]/(xi*xi-1) + y[2]/(2*(1-xi))\n",
        "    b = (y[2]-y[0])/2\n",
        "    c = xi*( y[0]/(2*(1+xi)) -y[2]/(2*(1-xi)) )  -y[1]/(xi*xi-1)\n",
        "    vx = -b/(2*a)\n",
        "    if vx>=-1 and vx<=1:\n",
        "        vy = a*vx**2 + b*vx + c\n",
        "        if vy <0:\n",
        "            c = c-vy\n",
        "            vy = vy = a*vx**2 + b*vx + c\n",
        "            c = c-vy\n",
        "    stotal = ((a/3)+c)*LengthX\n",
        "    a = a/stotal\n",
        "    b = b/stotal\n",
        "    c = c/stotal\n",
        "    s = a*(x/(LengthX/2))**2 + b*(x/(LengthX/2)) + c # 中性子源\n",
        "    if s.min() < 0:\n",
        "        print(\"Warning: source is negative\")\n",
        "\n",
        "    albedo = np.random.uniform(low=0.0, high=1.0, size=(2)) # アルベド値\n",
        "\n",
        "    flux = calcFluxDiffusion(SigS, SigA, s, dx, matid, albedo)\n",
        "\n",
        "    # snapshotdata\n",
        "    snapshotF[:,i] = flux\n",
        "    ## snapshotQ[:,i] = (s + SigS[matid]*flux)\n",
        "\n",
        "    if i>=10:\n",
        "        continue\n",
        "    plt.plot(x, flux, color=\"blue\", linestyle=\"solid\", label=\"$\\phi(x)$\")\n",
        "    plt.plot(x, s, color=\"red\", linestyle=\"dashed\", label=\"$S(x)$\")\n",
        "    plt.title(\"flux at {} condition \".format(ordinal(i+1)))\n",
        "    fluxmax = flux.max()\n",
        "    plt.xlabel(\"$x$ (cm)\")\n",
        "    plt.ylabel(\"$\\phi(x)$ (a.u.)\")\n",
        "    plt.legend()\n",
        "    plt.tight_layout()\n",
        "    plt.show()"
      ],
      "execution_count": null,
      "outputs": []
    },
    {
      "cell_type": "markdown",
      "source": [
        "## **snapshotデータ行列の可視化**"
      ],
      "metadata": {
        "id": "aG86-4yW72cX"
      }
    },
    {
      "cell_type": "code",
      "source": [
        "plt.rcParams[\"figure.figsize\"]=(8,8)\n",
        "plt.rcParams[\"font.size\"] = 12\n",
        "\n",
        "plt.imshow(snapshotF)\n",
        "#plt.imshow(snapshotF, cmap=\"jet\")\n",
        "#plt.imshow(snapshotF, cmap=\"seismic\")\n",
        "plt.colorbar()\n",
        "#plt.tight_layout()\n",
        "plt.show()"
      ],
      "metadata": {
        "id": "4NCWuV6u8Crs"
      },
      "execution_count": null,
      "outputs": []
    },
    {
      "cell_type": "markdown",
      "source": [
        "## **行列ランクの調べ方**\n",
        "\n"
      ],
      "metadata": {
        "id": "B8x7cJAD8auX"
      }
    },
    {
      "cell_type": "code",
      "source": [
        "rankF = ???????\n",
        "print(\"rankF = {}\".format(rankF))\n"
      ],
      "metadata": {
        "id": "e_EVBLFa8keM"
      },
      "execution_count": null,
      "outputs": []
    },
    {
      "cell_type": "markdown",
      "source": [
        "## **特異値分解**：特異値分布の可視化"
      ],
      "metadata": {
        "id": "OKKAQh379Ym8"
      }
    },
    {
      "cell_type": "code",
      "source": [
        "UF, sF2, VFh = np.linalg.svd(snapshotF, full_matrices=False)\n",
        "\n",
        "plt.rcParams[\"figure.figsize\"]=(6,4)\n",
        "plt.scatter(np.arange(len(sF2))+1, sF2, marker=\".\", color=\"blue\", zorder=2)\n",
        "plt.vlines(rankF, sF2.min(), sF2.max(), linestyle=\"dashed\", color=\"silver\", zorder=1)\n",
        "plt.xlabel(\"POD order\")\n",
        "plt.ylabel(\"singular value $\\sigma_i$\")\n",
        "plt.yscale(\"log\")\n",
        "plt.tight_layout()\n",
        "plt.show()"
      ],
      "metadata": {
        "id": "h0OAD0Eb-vxB"
      },
      "execution_count": null,
      "outputs": []
    },
    {
      "cell_type": "markdown",
      "source": [
        "## **POD基底の評価と可視化**"
      ],
      "metadata": {
        "id": "kuaDMS7Q_typ"
      }
    },
    {
      "cell_type": "code",
      "source": [
        "UF, sF2, VFh = np.linalg.svd(snapshotF, full_matrices=False)\n",
        "\n",
        "coefF = np.diag(sF2).dot(VFh) # snapshotデータの係数行列\n",
        "rankF = ????\n",
        "\n",
        "\"\"\"\n",
        "UF = UF[:,:rankF]\n",
        "coefF = coefF[:rankF,:]\n",
        "for i in range(rankF):\n",
        "    Umin = UF[:,i].min()\n",
        "    Umax = UF[:,i].max()\n",
        "    if Umax < abs(Umin):\n",
        "        UF[:,i]*=-1\n",
        "        coefF[i,:]*=-1\n",
        "\"\"\"\n",
        "\n",
        "plt.imshow(UF, cmap=\"seismic\")\n",
        "plt.show()\n",
        "\n",
        "plt.imshow(UF[:,:rankF], cmap=\"seismic\") # POD基底行列の列(横方向)について、ランクrまでスライシングして削減\n",
        "plt.show()\n",
        "\n",
        "\n",
        "plt.rcParams[\"figure.figsize\"]=(4,4)\n",
        "for i in range(rankF):\n",
        "    plt.plot(x, UF[:,i], linestyle=\"solid\", color=\"black\", zorder=2)\n",
        "    plt.hlines(0, -LengthX/2, LengthX/2, linestyle=\"dashed\", color=\"silver\", zorder=1)\n",
        "    plt.title(\"{} order POD\".format(ordinal(i+1)))\n",
        "    plt.xlabel(\"$x$ (cm)\")\n",
        "    plt.ylabel(\"$u_{i}(x)$ (a.u.)\")\n",
        "    plt.tight_layout()\n",
        "    plt.show()\n"
      ],
      "metadata": {
        "id": "C72hwdLG7aod"
      },
      "execution_count": null,
      "outputs": []
    },
    {
      "cell_type": "markdown",
      "source": [
        "## **データ拡張 (data augumentation)**"
      ],
      "metadata": {
        "id": "L16jBwD_CJFK"
      }
    },
    {
      "cell_type": "code",
      "source": [
        "plt.rcParams[\"figure.figsize\"]=(6,4)\n",
        "plt.imshow(snapshotF)\n",
        "plt.show()\n",
        "\n",
        "plt.imshow(snapshotF[::-1, :]) # 上下に反転。すなわちsnapshotデータについて、x方向の境界条件を逆にしたデータとなる\n",
        "plt.show()"
      ],
      "metadata": {
        "id": "G4sN1IkA3l3h"
      },
      "execution_count": null,
      "outputs": []
    },
    {
      "cell_type": "code",
      "source": [
        "snapshotDA = np.append(snapshotF, ??????, axis=1)\n",
        "UF, sF2, VFh = np.linalg.svd(snapshotDA, full_matrices=False)\n",
        "rankF = np.linalg.matrix_rank(snapshotDA)\n",
        "\n",
        "print(\"rankF = {}\".format(rankF))\n",
        "coefF = np.diag(sF2).dot(VFh) # snapshotデータの係数行列\n",
        "\n",
        "UF = UF[:,:rankF]\n",
        "coefF = coefF[:rankF,:]\n",
        "for i in range(rankF):\n",
        "    Umin = UF[:,i].min()\n",
        "    Umax = UF[:,i].max()\n",
        "    if Umax < abs(Umin):\n",
        "        UF[:,i]*=-1\n",
        "        coefF[i,:]*=-1\n",
        "\n",
        "plt.rcParams[\"figure.figsize\"]=(6,4)\n",
        "plt.scatter(np.arange(len(sF2))+1, sF2, marker=\".\", color=\"blue\", zorder=2)\n",
        "plt.vlines(rankF, sF2.min(), sF2.max(), linestyle=\"dashed\", color=\"silver\", zorder=1)\n",
        "plt.xlabel(\"POD order\")\n",
        "plt.ylabel(\"singular value $\\sigma_i$\")\n",
        "plt.yscale(\"log\")\n",
        "plt.tight_layout()\n",
        "plt.show()\n",
        "\n",
        "plt.rcParams[\"figure.figsize\"]=(4,4)\n",
        "for i in range(rankF):\n",
        "    plt.plot(x, UF[:,i], linestyle=\"solid\", color=\"black\", zorder=2)\n",
        "    plt.hlines(0, -LengthX/2, LengthX/2, linestyle=\"dashed\", color=\"silver\", zorder=1)\n",
        "    plt.title(\"{} order POD\".format(ordinal(i+1)))\n",
        "    plt.xlabel(\"$x$ (cm)\")\n",
        "    plt.ylabel(\"$u_{i}(x)$ (a.u.)\")\n",
        "    plt.tight_layout()\n",
        "    plt.show()"
      ],
      "metadata": {
        "id": "xr8EGuvd3GzC"
      },
      "execution_count": null,
      "outputs": []
    },
    {
      "cell_type": "markdown",
      "source": [
        "## **低ランク近似**：異なる計算条件におけるPOD基底展開の誤差チェック"
      ],
      "metadata": {
        "id": "DAlFRvje4Q4R"
      }
    },
    {
      "cell_type": "code",
      "source": [
        "np.random.seed(20240924)\n",
        "\n",
        "r = 3  # <- 低ランク近似：POD基底の数を変えてみよう\n",
        "Ncheck = 10 # <- 検証計算する回数。まずは自由に変えてみよう\n",
        "# Ncheck = 59 # <- 1次のWilks法による(p=95%,q=95%)片側許容限界\n",
        "\n",
        "LengthX = 12.0 # 平板厚さ\n",
        "NX = 240 # 空間メッシュ分割数\n",
        "dx = np.full( NX, LengthX/NX ) # 空間メッシュ幅の設定\n",
        "xS = np.linspace(start=-LengthX/2, stop=LengthX/2, num=NX+1)\n",
        "x = (xS[:-1] + xS[1:])/2 # 各空間メッシュの中点位置x座標\n",
        "matid = np.zeros(NX, dtype=np.int64) # 各メッシュの物質ID指定。左の場合は、全て0\n",
        "\n",
        "\n",
        "plt.rcParams[\"figure.figsize\"]=(8*r/NX, 8*NX/NX)\n",
        "plt.imshow(UF[:,:r], cmap=\"seismic\")\n",
        "#plt.tight_layout()\n",
        "plt.show()\n",
        "\n",
        "rRMSEcheck = np.zeros(Ncheck)\n",
        "MREcheck = np.zeros(Ncheck)\n",
        "\n",
        "for j in range(Ncheck):\n",
        "    SigA = np.random.uniform(low=0.01, high=1.0, size=(1)) # 巨視的吸収断面積\n",
        "    SigS = np.random.uniform(low=0.01, high=1.0, size=(1)) # 巨視的散乱断面積\n",
        "\n",
        "    # 中性子源の設定\n",
        "    s = np.zeros(NX)\n",
        "    xi = np.random.uniform(low=-1.0, high=1.0)\n",
        "    y = np.random.uniform(low=0.0, high=1.0, size=3)\n",
        "    a = y[0]/(2*(1+xi)) +y[1]/(xi*xi-1) + y[2]/(2*(1-xi))\n",
        "    b = (y[2]-y[0])/2\n",
        "    c = xi*( y[0]/(2*(1+xi)) -y[2]/(2*(1-xi)) )  -y[1]/(xi*xi-1)\n",
        "    vx = -b/(2*a)\n",
        "    if vx>=-1 and vx<=1:\n",
        "        vy = a*vx**2 + b*vx + c\n",
        "        if vy <0:\n",
        "            c = c-vy\n",
        "            vy = vy = a*vx**2 + b*vx + c\n",
        "            c = c-vy\n",
        "    stotal = ((a/3)+c)*LengthX\n",
        "    a = a/stotal\n",
        "    b = b/stotal\n",
        "    c = c/stotal\n",
        "    s = a*(x/(LengthX/2))**2 + b*(x/(LengthX/2)) + c # 中性子源\n",
        "    if s.min() < 0:\n",
        "        print(\"Warning: source is negative\")\n",
        "\n",
        "    albedo = np.random.uniform(low=0.0, high=1.0, size=(2)) # アルベド値\n",
        "\n",
        "    fluxref = calcFluxDiffusion(SigS, SigA, s, dx, matid, albedo) # 別計算条件で得られた中性子束参照解\n",
        "\n",
        "    coefPOD = (UF[:,:r].T).dot(fluxref) # 参照解結果に基づいてPOD展開係数を求める\n",
        "    fluxPOD = UF[:,:r].dot(coefPOD)     # r次までのPOD基底により中性子束を再構成する\n",
        "    rerr = (fluxPOD/fluxref-1)*100      # 相対誤差 (%)\n",
        "\n",
        "    rRMSE = np.sqrt( (rerr**2).mean() )\n",
        "    MRE = (np.abs(rerr)*flux*dx).sum() / ((flux*dx).sum())\n",
        "    rRMSEcheck[j] = rRMSE\n",
        "    MREcheck[j] = MRE\n",
        "\n",
        "    if j < 10:\n",
        "        plt.rcParams[\"figure.figsize\"]=(4, 4)\n",
        "        plt.plot(fluxPOD, color=\"blue\", linestyle=\"dashed\", zorder=2)\n",
        "        plt.plot(fluxref, color=\"red\", linestyle=\"solid\", zorder=1)\n",
        "        plt.title(\"{} trial\".format(ordinal(j+1)))\n",
        "        plt.xlabel(\"$x$ (cm)\")\n",
        "        plt.ylabel(\"$\\phi(x)$ (a.u.)\")\n",
        "        plt.tight_layout()\n",
        "        plt.show()\n",
        "\n",
        "        plt.rcParams[\"figure.figsize\"]=(4, 4)\n",
        "        plt.plot(rerr, color=\"black\", linestyle=\"solid\", zorder=2)\n",
        "        plt.xlabel(\"$x$ (cm)\")\n",
        "        plt.title(\"{} trial\".format(ordinal(j+1)))\n",
        "        plt.ylabel(\"relative error (%)\")\n",
        "        plt.tight_layout()\n",
        "        plt.show()\n",
        "\n",
        "        print(\"rRMSE = {}, MRE = {}, rerr min = {}, rerr max = {}\".format(rRMSE, MRE, rerr.min(), rerr.max()))\n",
        "        print()\n",
        "\n",
        "\n",
        "print(\"rRMSE max = {}\".format(rRMSEcheck.max()))\n",
        "print(\"MRE max = {}\".format(MREcheck.max()))"
      ],
      "metadata": {
        "id": "ovQ7pZIYCKaU"
      },
      "execution_count": null,
      "outputs": []
    },
    {
      "cell_type": "markdown",
      "source": [
        "### **Wilks法とは？**\n",
        "\n",
        "確率$p$で信頼度$q$を満足する片側許容限界を、ノンパラメトリックな方法で推定することができる手法。\n",
        "\n",
        "例えば、ランダムサンプリング法により、条件を変えた計算を$N$回だけ計算を実施し、ある量の計算結果を$N$個だけ得ることができたとする。\n",
        "このとき、降順(あるいは昇順)に並び替えて、上から1番目の値を選ぶだけで、確率$p$で信頼度$q$を満足する片側許容限界を推定することができる。\n",
        "\n",
        "\\\\\n",
        "\n",
        "ここで、サンプリングすべき数(サンプルサイズ)$N$は、1次のWilks法の場合(上から1番目の値を選ぶ場合、要は最大値を調べる場合)には、$N$は以下の式で求めることができる。\n",
        "$$ N = \\left \\lceil \\frac{\\ln(1 - q)}{\\ln(p)} \\right \\rceil  $$\n",
        "\n",
        "\\\\\n",
        "## 参考文献\n",
        "[N. W. Porter, \"Wilks' Formula Applied to Computational Tools: A Practical Discussion and Verification,\" SAND2019-1901J (2019).](https://www.osti.gov/servlets/purl/1529145)"
      ],
      "metadata": {
        "id": "n6QZUMZkCJxs"
      }
    },
    {
      "cell_type": "code",
      "source": [
        "import numpy as np\n",
        "import math\n",
        "import matplotlib.pyplot as plt\n",
        "from numba import njit\n",
        "\n",
        "@njit(cache=True)\n",
        "def samplingDistribution(size, case=None):\n",
        "    if case is None or case==\"sec3\":\n",
        "        x = np.random.normal(loc=np.pi, scale=np.pi/3, size=size)\n",
        "        # x = np.random.uniform(low=0.0, high=2*np.pi, size=size)\n",
        "        # x = np.random.beta(0.8, 1.5, size=size)\n",
        "    return x\n",
        "\n",
        "\n",
        "def sampleSizefor1stWilks(p, q):\n",
        "    return math.ceil(math.log(1-q)/math.log(p))\n",
        "\n",
        "\n",
        "p = 0.95  # probability of percentile point\n",
        "q = 0.95  # confidence level\n",
        "order=1   # order of Wilks formula\n",
        "\n",
        "Nwilks = sampleSizefor1stWilks(p, q)\n",
        "print(\"N = {0} when p={1}, q={2}\".format(Nwilks, p, q))\n",
        "\n",
        "\n",
        "M = 10000 # Wilks法による許容限界判定に成功したかどうか、検証する回数\n",
        "Np = 10000 # 許容限界値を未満の数を調べる際のサンプリング数\n",
        "\n",
        "success = np.zeros(M)\n",
        "tlpq = np.zeros(M)\n",
        "t=0.0\n",
        "for i in range(M):\n",
        "    x = samplingDistribution(Nwilks)\n",
        "    index = np.argsort(x)[::-1]\n",
        "    tlpq[i] = x[index[order-1]]\n",
        "\n",
        "    xtest = samplingDistribution(Np)\n",
        "    if (xtest < tlpq[i]).sum()/Np >= p:\n",
        "       success[i] = 1.0\n",
        "\n",
        "plt.rcParams[\"figure.figsize\"]=(6, 6)\n",
        "plt.hist(tlpq, bins=25)\n",
        "plt.title(\"toleranence limit = {0} +/- {1}\".format(tlpq.mean(), tlpq.std(ddof=1)))\n",
        "plt.xlabel(\"{0:.1f}/{1:.1f} tolerane limit\".format(p*100, q*100))\n",
        "plt.show()\n",
        "\n",
        "# calculation of confidence level using bootstrap method\n",
        "NBS=10000 # bootstrap法によるリサンプリング数\n",
        "qBS =  np.zeros(NBS)\n",
        "for b in range(NBS):\n",
        "   successBS = np.random.choice(success, size=M)\n",
        "   qBS[b] = successBS.sum()/M\n",
        "\n",
        "plt.hist(qBS, bins=25)\n",
        "plt.title(\"{0} +/- {1}\".format(qBS.mean(), qBS.std(ddof=1)))\n",
        "plt.xlabel(\"q_calc\")\n",
        "plt.show()"
      ],
      "metadata": {
        "id": "uZaQ_NotMvba"
      },
      "execution_count": null,
      "outputs": []
    },
    {
      "cell_type": "markdown",
      "source": [
        "## **POD拡散計算の例**"
      ],
      "metadata": {
        "id": "y7kmkRdQT6JT"
      }
    },
    {
      "cell_type": "code",
      "source": [
        "np.random.seed(20240925)\n",
        "\n",
        "r = 3  # <- 低ランク近似：POD基底の数を変えてみよう\n",
        "Ncheck = 1 # <- 検証計算する回数。まずは自由に変えてみよう\n",
        "# Ncheck = 59 # <- 1次のWilks法による(p=95%,q=95%)片側許容限界\n",
        "\n",
        "LengthX = 12.0 # 平板厚さ\n",
        "NX = 240 # 空間メッシュ分割数\n",
        "dx = np.full( NX, LengthX/NX ) # 空間メッシュ幅の設定\n",
        "xS = np.linspace(start=-LengthX/2, stop=LengthX/2, num=NX+1)\n",
        "x = (xS[:-1] + xS[1:])/2 # 各空間メッシュの中点位置x座標\n",
        "matid = np.zeros(NX, dtype=np.int64) # 各メッシュの物質ID指定。左の場合は、全て0\n",
        "\n",
        "plt.rcParams[\"figure.figsize\"]=(8*r/NX, 8*NX/NX)\n",
        "plt.imshow(UF[:,:r], cmap=\"seismic\")\n",
        "#plt.tight_layout()\n",
        "plt.show()\n",
        "\n",
        "rRMSEcheck = np.zeros(Ncheck)\n",
        "MREcheck = np.zeros(Ncheck)\n",
        "\n",
        "for j in range(Ncheck):\n",
        "    SigA = np.random.uniform(low=0.01, high=1.0, size=(1)) # 巨視的吸収断面積\n",
        "    SigS = np.random.uniform(low=0.01, high=1.0, size=(1)) # 巨視的散乱断面積\n",
        "    SigT = SigA + SigS                                     # 巨視的全断面積\n",
        "    D = 1.0/(3.0*SigT)                                     # 拡散係数\n",
        "\n",
        "    # 中性子源の設定\n",
        "    s = np.zeros(NX)\n",
        "    xi = np.random.uniform(low=-1.0, high=1.0)\n",
        "    y = np.random.uniform(low=0.0, high=1.0, size=3)\n",
        "    a = y[0]/(2*(1+xi)) +y[1]/(xi*xi-1) + y[2]/(2*(1-xi))\n",
        "    b = (y[2]-y[0])/2\n",
        "    c = xi*( y[0]/(2*(1+xi)) -y[2]/(2*(1-xi)) )  -y[1]/(xi*xi-1)\n",
        "    vx = -b/(2*a)\n",
        "    if vx>=-1 and vx<=1:\n",
        "        vy = a*vx**2 + b*vx + c\n",
        "        if vy <0:\n",
        "            c = c-vy\n",
        "            vy = vy = a*vx**2 + b*vx + c\n",
        "            c = c-vy\n",
        "    stotal = ((a/3)+c)*LengthX\n",
        "    a = a/stotal\n",
        "    b = b/stotal\n",
        "    c = c/stotal\n",
        "    s = a*(x/(LengthX/2))**2 + b*(x/(LengthX/2)) + c # 中性子源\n",
        "    if s.min() < 0:\n",
        "        print(\"Warning: source is negative\")\n",
        "\n",
        "    albedo = np.random.uniform(low=0.0, high=1.0, size=(2)) # アルベド値\n",
        "\n",
        "    fluxref = calcFluxDiffusion(SigS, SigA, s, dx, matid, albedo) # 別計算条件で得られた中性子束参照解\n",
        "\n",
        "    A = calcMatrixA(1/(3*SigT[matid]), np.zeros(NX+1), SigA, dx, matid, albedo) # 中性子拡散計算で用いる係数行列Aの計算\n",
        "\n",
        "    Atilde = (UF[:,:r].T).dot(A.dot(UF[:,:r]))  # サンドイッチ法による係数行列Aの圧縮\n",
        "    stilde = (UF[:,:r].T).dot(s)                # 中性子源sのPOD展開係数評価\n",
        "    coefPOD = np.linalg.solve(Atilde, stilde)   # 次元圧縮した拡散計算連立方程式を解く\n",
        "\n",
        "    fluxPOD = UF[:,:r].dot(coefPOD)     # r次までのPOD基底により中性子束を再構成する\n",
        "    rerr = (fluxPOD/fluxref-1)*100      # 相対誤差 (%)\n",
        "\n",
        "    rRMSE = np.sqrt( (rerr**2).mean() )\n",
        "    MRE = (np.abs(rerr)*flux*dx).sum() / ((flux*dx).sum())\n",
        "    rRMSEcheck[j] = rRMSE\n",
        "    MREcheck[j] = MRE\n",
        "\n",
        "    if j < 10:\n",
        "        plt.rcParams[\"figure.figsize\"]=(4,4)\n",
        "        plt.scatter(np.arange(r)+1,  coefPOD, marker=\".\", color=\"blue\")\n",
        "        plt.xlabel(\"POD order\")\n",
        "        plt.ylabel(\"POD expansion coefficient (a.u.)\")\n",
        "        plt.tight_layout()\n",
        "        plt.tight_layout()\n",
        "        plt.show()\n",
        "\n",
        "        plt.rcParams[\"figure.figsize\"]=(4, 4)\n",
        "        plt.plot(fluxPOD, color=\"blue\", linestyle=\"dashed\", zorder=2)\n",
        "        plt.plot(fluxref, color=\"red\", linestyle=\"solid\", zorder=1)\n",
        "        plt.title(\"{} trial\".format(ordinal(j+1)))\n",
        "        plt.xlabel(\"$x$ (cm)\")\n",
        "        plt.ylabel(\"$\\phi(x)$ (a.u.)\")\n",
        "        plt.tight_layout()\n",
        "        plt.show()\n",
        "\n",
        "        plt.rcParams[\"figure.figsize\"]=(4, 4)\n",
        "        plt.plot(rerr, color=\"black\", linestyle=\"solid\", zorder=2)\n",
        "        plt.xlabel(\"$x$ (cm)\")\n",
        "        plt.title(\"{} trial\".format(ordinal(j+1)))\n",
        "        plt.ylabel(\"relative error (%)\")\n",
        "        plt.tight_layout()\n",
        "        plt.show()\n",
        "\n",
        "        print(\"rRMSE = {}, MRE = {}, rerr min = {}, rerr max = {}\".format(rRMSE, MRE, rerr.min(), rerr.max()))\n",
        "        print()\n",
        "\n",
        "\n",
        "print(\"rRMSE max = {}\".format(rRMSEcheck.max()))\n",
        "print(\"MRE max = {}\".format(MREcheck.max()))"
      ],
      "metadata": {
        "id": "J_jnSEcproXR"
      },
      "execution_count": null,
      "outputs": []
    }
  ]
}